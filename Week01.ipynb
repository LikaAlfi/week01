{
  "nbformat": 4,
  "nbformat_minor": 0,
  "metadata": {
    "colab": {
      "provenance": [],
      "authorship_tag": "ABX9TyMU5/Kmjh+x+eBO9/mwuypN",
      "include_colab_link": true
    },
    "kernelspec": {
      "name": "python3",
      "display_name": "Python 3"
    },
    "language_info": {
      "name": "python"
    }
  },
  "cells": [
    {
      "cell_type": "markdown",
      "metadata": {
        "id": "view-in-github",
        "colab_type": "text"
      },
      "source": [
        "<a href=\"https://colab.research.google.com/github/LikaAlfi/week01/blob/main/Week01.ipynb\" target=\"_parent\"><img src=\"https://colab.research.google.com/assets/colab-badge.svg\" alt=\"Open In Colab\"/></a>"
      ]
    },
    {
      "cell_type": "markdown",
      "source": [],
      "metadata": {
        "id": "KQ-IPQjSi981"
      }
    },
    {
      "cell_type": "code",
      "execution_count": null,
      "metadata": {
        "colab": {
          "base_uri": "https://localhost:8080/"
        },
        "id": "g_hGnHrKeUec",
        "outputId": "f048a907-b90e-4f23-a23a-df72d0d93bcc"
      },
      "outputs": [
        {
          "output_type": "stream",
          "name": "stdout",
          "text": [
            "hello, dunia\n"
          ]
        }
      ],
      "source": [
        "print('hello, dunia')"
      ]
    },
    {
      "cell_type": "code",
      "source": [
        "print(\"\"Universitas Tidar\"\")"
      ],
      "metadata": {
        "colab": {
          "base_uri": "https://localhost:8080/",
          "height": 106
        },
        "id": "Jhoo02qjkLKc",
        "outputId": "5047f6c4-9db9-43db-b018-3fb1514b83fa"
      },
      "execution_count": null,
      "outputs": [
        {
          "output_type": "error",
          "ename": "SyntaxError",
          "evalue": "invalid syntax. Perhaps you forgot a comma? (<ipython-input-7-c16a32833850>, line 1)",
          "traceback": [
            "\u001b[0;36m  File \u001b[0;32m\"<ipython-input-7-c16a32833850>\"\u001b[0;36m, line \u001b[0;32m1\u001b[0m\n\u001b[0;31m    print(\"\"Universitas Tidar\"\")\u001b[0m\n\u001b[0m          ^\u001b[0m\n\u001b[0;31mSyntaxError\u001b[0m\u001b[0;31m:\u001b[0m invalid syntax. Perhaps you forgot a comma?\n"
          ]
        }
      ]
    },
    {
      "cell_type": "markdown",
      "source": [],
      "metadata": {
        "id": "jG5Ws5Rgix7O"
      }
    },
    {
      "cell_type": "code",
      "source": [
        "import sys\n",
        "print(sys.version)"
      ],
      "metadata": {
        "colab": {
          "base_uri": "https://localhost:8080/"
        },
        "id": "rjLcN4jGkwlb",
        "outputId": "6b5e31d3-a398-4ecd-85d5-027cf2e5fab0"
      },
      "execution_count": null,
      "outputs": [
        {
          "output_type": "stream",
          "name": "stdout",
          "text": [
            "3.10.12 (main, Jul 29 2024, 16:56:48) [GCC 11.4.0]\n"
          ]
        }
      ]
    },
    {
      "cell_type": "code",
      "source": [
        "print('Hello, Phyton!')\n",
        "print('Hi')"
      ],
      "metadata": {
        "colab": {
          "base_uri": "https://localhost:8080/"
        },
        "id": "5g3yOWfplpKL",
        "outputId": "b41c3b1e-ff15-4fab-f84e-7545065e742b"
      },
      "execution_count": null,
      "outputs": [
        {
          "output_type": "stream",
          "name": "stdout",
          "text": [
            "Hello, Phyton!\n",
            "Hi\n"
          ]
        }
      ]
    },
    {
      "cell_type": "code",
      "source": [
        "frint(\"Hello, Phyton!\")"
      ],
      "metadata": {
        "colab": {
          "base_uri": "https://localhost:8080/",
          "height": 141
        },
        "id": "2kfpYLNDmg0b",
        "outputId": "f5abb5da-573c-490e-e7ae-a9d164630796"
      },
      "execution_count": null,
      "outputs": [
        {
          "output_type": "error",
          "ename": "NameError",
          "evalue": "name 'frint' is not defined",
          "traceback": [
            "\u001b[0;31m---------------------------------------------------------------------------\u001b[0m",
            "\u001b[0;31mNameError\u001b[0m                                 Traceback (most recent call last)",
            "\u001b[0;32m<ipython-input-8-d3764e415b67>\u001b[0m in \u001b[0;36m<cell line: 1>\u001b[0;34m()\u001b[0m\n\u001b[0;32m----> 1\u001b[0;31m \u001b[0mfrint\u001b[0m\u001b[0;34m(\u001b[0m\u001b[0;34m\"Hello, Phyton!\"\u001b[0m\u001b[0;34m)\u001b[0m\u001b[0;34m\u001b[0m\u001b[0;34m\u001b[0m\u001b[0m\n\u001b[0m",
            "\u001b[0;31mNameError\u001b[0m: name 'frint' is not defined"
          ]
        }
      ]
    },
    {
      "cell_type": "code",
      "source": [
        "print(\"Hello, Phyton!)"
      ],
      "metadata": {
        "colab": {
          "base_uri": "https://localhost:8080/",
          "height": 106
        },
        "id": "ohSruUgtni4c",
        "outputId": "88cd090b-7678-4ccd-95c0-5df343b26805"
      },
      "execution_count": null,
      "outputs": [
        {
          "output_type": "error",
          "ename": "SyntaxError",
          "evalue": "unterminated string literal (detected at line 1) (<ipython-input-9-e21595ee9f67>, line 1)",
          "traceback": [
            "\u001b[0;36m  File \u001b[0;32m\"<ipython-input-9-e21595ee9f67>\"\u001b[0;36m, line \u001b[0;32m1\u001b[0m\n\u001b[0;31m    print(\"Hello, Phyton!)\u001b[0m\n\u001b[0m          ^\u001b[0m\n\u001b[0;31mSyntaxError\u001b[0m\u001b[0;31m:\u001b[0m unterminated string literal (detected at line 1)\n"
          ]
        }
      ]
    },
    {
      "cell_type": "code",
      "source": [
        "print(This will be printed)\n",
        "frint(\"This will cause an error\")\n",
        "print(\"This will NOT be printed\")"
      ],
      "metadata": {
        "colab": {
          "base_uri": "https://localhost:8080/",
          "height": 106
        },
        "id": "St8I4I9UoVI7",
        "outputId": "f204076d-1df2-4f06-d743-cf309057a8f6"
      },
      "execution_count": null,
      "outputs": [
        {
          "output_type": "error",
          "ename": "SyntaxError",
          "evalue": "invalid syntax. Perhaps you forgot a comma? (<ipython-input-10-764ee7647ad7>, line 1)",
          "traceback": [
            "\u001b[0;36m  File \u001b[0;32m\"<ipython-input-10-764ee7647ad7>\"\u001b[0;36m, line \u001b[0;32m1\u001b[0m\n\u001b[0;31m    print(This will be printed)\u001b[0m\n\u001b[0m          ^\u001b[0m\n\u001b[0;31mSyntaxError\u001b[0m\u001b[0;31m:\u001b[0m invalid syntax. Perhaps you forgot a comma?\n"
          ]
        }
      ]
    },
    {
      "cell_type": "code",
      "source": [
        "print(\"Nama         : Fadlika Alfi Nurrochmah\")\n",
        "print()\n",
        "print(\"NPM          : 2410506010\")\n",
        "print()\n",
        "print(\"Alamat       : Ceme, Tampir Kulon, Candimulyo, Magelang\")\n",
        "print()\n",
        "print(\"Tinggi Badan : 160\")\n",
        "print()\n",
        "print(\"Berat Badan  : 40\")"
      ],
      "metadata": {
        "colab": {
          "base_uri": "https://localhost:8080/"
        },
        "id": "pmTAZL0yowDj",
        "outputId": "f9bccf14-4346-42cc-c9ee-b1de00a46994"
      },
      "execution_count": null,
      "outputs": [
        {
          "output_type": "stream",
          "name": "stdout",
          "text": [
            "Nama         : Fadlika Alfi Nurrochmah\n",
            "\n",
            "NPM          : 2410506010\n",
            "\n",
            "Alamat       : Ceme, Tampir Kulon, Candimulyo, Magelang\n",
            "\n",
            "Tinggi Badan : 160\n",
            "\n",
            "Berat Badan  : 40\n"
          ]
        }
      ]
    },
    {
      "cell_type": "code",
      "source": [
        "print(\"\\033[1mUNIVERSITAS TIDAR\\033[0m\")\n",
        "print(\"Universitas Tidar merupakan Perguruyan Tinggi Pemerintahan atau Perguruan Tinggi Negeri yang telah ditetapkan berdasarkan Peraturan Presiden Republik Indonesia Nomor 23 Tahun 2014 pada tanggal 1 April 2014.\")\n",
        "print()\n",
        "print(\"\\033[1mJURUSAN TEKNIK ELEKTRO, MEKATRONIKA DAN INFORMASI\\033[0m\")\n",
        "print(\"Jurusan Teknik terdiri atas tiga program studi, antara lain:\")\n",
        "print(\"     1. S1 Tekniik Elektro \\033[3m(Bachelor of Electrical Engineering)\\033[0m\")\n",
        "print(\"     2. S1 Teknik Informasi \\033[3m(Bachelor of Information Technology)\\033[0m\")\n",
        "print(\"     3. S1 Teknik Mekatrinika \\033[3m(Bachelor of Mechatronics Engineering)\\033[0m\")"
      ],
      "metadata": {
        "colab": {
          "base_uri": "https://localhost:8080/"
        },
        "id": "fFnUfRvOrAK6",
        "outputId": "ff4d817b-946f-4b41-ef40-94446eba9fc8"
      },
      "execution_count": null,
      "outputs": [
        {
          "output_type": "stream",
          "name": "stdout",
          "text": [
            "\u001b[1mUNIVERSITAS TIDAR\u001b[0m\n",
            "Universitas Tidar merupakan Perguruyan Tinggi Pemerintahan atau Perguruan Tinggi Negeri yang telah ditetapkan berdasarkan Peraturan Presiden Republik Indonesia Nomor 23 Tahun 2014 pada tanggal 1 April 2014.\n",
            "\n",
            "\u001b[1mJURUSAN TEKNIK ELEKTRO, MEKATRONIKA DAN INFORMASI\u001b[0m\n",
            "Jurusan Teknik terdiri atas tiga program studi, antara lain:\n",
            "     1. S1 Tekniik Elektro \u001b[3m(Bachelor of Electrical Engineering)\u001b[0m\n",
            "     2. S1 Teknik Informasi \u001b[3m(Bachelor of Information Technology)\u001b[0m\n",
            "     3. S1 Teknik Mekatrinika \u001b[3m(Bachelor of Mechatronics Engineering)\u001b[0m\n"
          ]
        }
      ]
    }
  ]
}